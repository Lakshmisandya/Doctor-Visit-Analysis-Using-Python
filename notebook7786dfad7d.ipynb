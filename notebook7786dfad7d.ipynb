{
  "metadata": {
    "kernelspec": {
      "language": "python",
      "display_name": "Python 3",
      "name": "python3"
    },
    "language_info": {
      "pygments_lexer": "ipython3",
      "nbconvert_exporter": "python",
      "version": "3.6.4",
      "file_extension": ".py",
      "codemirror_mode": {
        "name": "ipython",
        "version": 3
      },
      "name": "python",
      "mimetype": "text/x-python"
    },
    "kaggle": {
      "accelerator": "none",
      "dataSources": [
        {
          "sourceId": 3538,
          "sourceType": "datasetVersion",
          "datasetId": 792
        }
      ],
      "dockerImageVersionId": 30176,
      "isInternetEnabled": false,
      "language": "python",
      "sourceType": "notebook",
      "isGpuEnabled": false
    },
    "colab": {
      "name": "notebook7786dfad7d",
      "provenance": []
    }
  },
  "nbformat_minor": 0,
  "nbformat": 4,
  "cells": [
    {
      "source": [
        "\n",
        "# IMPORTANT: RUN THIS CELL IN ORDER TO IMPORT YOUR KAGGLE DATA SOURCES\n",
        "# TO THE CORRECT LOCATION (/kaggle/input) IN YOUR NOTEBOOK,\n",
        "# THEN FEEL FREE TO DELETE THIS CELL.\n",
        "# NOTE: THIS NOTEBOOK ENVIRONMENT DIFFERS FROM KAGGLE'S PYTHON\n",
        "# ENVIRONMENT SO THERE MAY BE MISSING LIBRARIES USED BY YOUR\n",
        "# NOTEBOOK.\n",
        "\n",
        "import os\n",
        "import sys\n",
        "from tempfile import NamedTemporaryFile\n",
        "from urllib.request import urlopen\n",
        "from urllib.parse import unquote, urlparse\n",
        "from urllib.error import HTTPError\n",
        "from zipfile import ZipFile\n",
        "import tarfile\n",
        "import shutil\n",
        "\n",
        "CHUNK_SIZE = 40960\n",
        "DATA_SOURCE_MAPPING = 'noshowappointments:https%3A%2F%2Fstorage.googleapis.com%2Fkaggle-data-sets%2F792%2F3538%2Fbundle%2Farchive.zip%3FX-Goog-Algorithm%3DGOOG4-RSA-SHA256%26X-Goog-Credential%3Dgcp-kaggle-com%2540kaggle-161607.iam.gserviceaccount.com%252F20240510%252Fauto%252Fstorage%252Fgoog4_request%26X-Goog-Date%3D20240510T111753Z%26X-Goog-Expires%3D259200%26X-Goog-SignedHeaders%3Dhost%26X-Goog-Signature%3D6d976f8fc7d11db91e6563eaa67c69bcb080a23ff2aa9d6973c35188ead998da4ef683f81746d69ff88bcedf759a5d0632a2b084c50040015c6aad9b930c68a968b2d5c77f32befe3d5a43bd90ebe720eb1e7faa6eb5f279cd78d9dd0d61bd4fd431592d6dfa6f31d0125bcfea4769a534d6745b917c93fe4207e3bb7aea52d8235e4dd155e6b55c008b54d424da678a720edf9aa79b7563f218a7bedf7b419a4920e18698e4875b3d0a17fcf92b0098c02a981bff55e6c26fff350f0c2ac1c1462d08662c7b4c63fffd652300bf755de9865d8c3c9458a160e1601fea81e5064492ddec98f53dd08be02c6e4b5797a9d98fa0e7e6ac8a1a3759a307c469d1fe'\n",
        "\n",
        "KAGGLE_INPUT_PATH='/kaggle/input'\n",
        "KAGGLE_WORKING_PATH='/kaggle/working'\n",
        "KAGGLE_SYMLINK='kaggle'\n",
        "\n",
        "!umount /kaggle/input/ 2> /dev/null\n",
        "shutil.rmtree('/kaggle/input', ignore_errors=True)\n",
        "os.makedirs(KAGGLE_INPUT_PATH, 0o777, exist_ok=True)\n",
        "os.makedirs(KAGGLE_WORKING_PATH, 0o777, exist_ok=True)\n",
        "\n",
        "try:\n",
        "  os.symlink(KAGGLE_INPUT_PATH, os.path.join(\"..\", 'input'), target_is_directory=True)\n",
        "except FileExistsError:\n",
        "  pass\n",
        "try:\n",
        "  os.symlink(KAGGLE_WORKING_PATH, os.path.join(\"..\", 'working'), target_is_directory=True)\n",
        "except FileExistsError:\n",
        "  pass\n",
        "\n",
        "for data_source_mapping in DATA_SOURCE_MAPPING.split(','):\n",
        "    directory, download_url_encoded = data_source_mapping.split(':')\n",
        "    download_url = unquote(download_url_encoded)\n",
        "    filename = urlparse(download_url).path\n",
        "    destination_path = os.path.join(KAGGLE_INPUT_PATH, directory)\n",
        "    try:\n",
        "        with urlopen(download_url) as fileres, NamedTemporaryFile() as tfile:\n",
        "            total_length = fileres.headers['content-length']\n",
        "            print(f'Downloading {directory}, {total_length} bytes compressed')\n",
        "            dl = 0\n",
        "            data = fileres.read(CHUNK_SIZE)\n",
        "            while len(data) > 0:\n",
        "                dl += len(data)\n",
        "                tfile.write(data)\n",
        "                done = int(50 * dl / int(total_length))\n",
        "                sys.stdout.write(f\"\\r[{'=' * done}{' ' * (50-done)}] {dl} bytes downloaded\")\n",
        "                sys.stdout.flush()\n",
        "                data = fileres.read(CHUNK_SIZE)\n",
        "            if filename.endswith('.zip'):\n",
        "              with ZipFile(tfile) as zfile:\n",
        "                zfile.extractall(destination_path)\n",
        "            else:\n",
        "              with tarfile.open(tfile.name) as tarfile:\n",
        "                tarfile.extractall(destination_path)\n",
        "            print(f'\\nDownloaded and uncompressed: {directory}')\n",
        "    except HTTPError as e:\n",
        "        print(f'Failed to load (likely expired) {download_url} to path {destination_path}')\n",
        "        continue\n",
        "    except OSError as e:\n",
        "        print(f'Failed to load {download_url} to path {destination_path}')\n",
        "        continue\n",
        "\n",
        "print('Data source import complete.')\n"
      ],
      "metadata": {
        "id": "f5rtXLFQOV7B"
      },
      "cell_type": "code",
      "outputs": [],
      "execution_count": null
    },
    {
      "cell_type": "markdown",
      "source": [
        "## Dataset Description\n",
        "A person makes a doctor appointment, receives all the instructions and no-show. Who to blame?\n",
        "This dataset collects information from 100k medical appointments in Brazil and is focused on the question of whether or not patients show up for their appointment. A number of characteristics about the patient are included in each row.\n",
        "\n",
        "\n",
        "## Columns Description\n",
        "1. `PatientId`: Identification of a patient.\n",
        "2. `AppointmentID`: Identification of each appointment.\n",
        "3. `Gender`: Male or Female.\n",
        "4. `AppointmentDay`: The day of the actuall appointment, when they have to visit the doctor.\n",
        "5. `ScheduledDay`: The day someone called or registered the appointment, this is before appointment of course.\n",
        "6. `Age`: How old is the patient.\n",
        "7. `Neighbourhood`: Where the appointment takes place.\n",
        "8. `Scholarship`: True of False, indicates whether or not the patient is enrolled in Brasilian welfare program Bolsa Família.\n",
        "9. `Hipertension`: True or False.\n",
        "10. `Diabetes`: True or False.\n",
        "11. `Alcoholism`: True or False.\n",
        "12. `Handcap`: True or False.\n",
        "13. `SMS_received`: 1 or more messages sent to the patient.\n",
        "14. `No-show`: True (if the patient did not show up), or False (if the patient did show up).\n",
        "\n",
        "\n",
        "## EDA Questions\n",
        "### Q1: How often do men go to hospitals compared to women? Which of them is more likely to show up?\n",
        "### Q2: Does recieving an SMS as a reminder affect whether or not a patient may show up? is it correlated with number of days before the appointment?\n",
        "### Q3: Does having a scholarship affects showing up on a hospital appointment? What are the age groups affected by this?\n",
        "### Q4: Does having certain deseases affect whather or not a patient may show up to their appointment? is it affected by gender?\n",
        "___"
      ],
      "metadata": {
        "id": "R6quqR1COV7G"
      }
    },
    {
      "cell_type": "markdown",
      "source": [
        "## Environment set-up"
      ],
      "metadata": {
        "id": "5PJQaVNgOV7J"
      }
    },
    {
      "cell_type": "code",
      "source": [
        "# importing lib.\n",
        "import numpy as np\n",
        "import pandas as pd\n",
        "import matplotlib.pyplot as plt\n",
        "import seaborn as sns\n",
        "\n",
        "# getting the csv file directory\n",
        "import os\n",
        "for dirname, _, filenames in os.walk('/kaggle/input'):\n",
        "    for filename in filenames:\n",
        "        print(os.path.join(dirname, filename))"
      ],
      "metadata": {
        "_uuid": "8f2839f25d086af736a60e9eeb907d3b93b6e0e5",
        "_cell_guid": "b1076dfc-b9ad-4769-8c92-a6c4dae69d19",
        "execution": {
          "iopub.status.busy": "2022-03-25T22:41:35.347001Z",
          "iopub.execute_input": "2022-03-25T22:41:35.347536Z",
          "iopub.status.idle": "2022-03-25T22:41:35.871271Z",
          "shell.execute_reply.started": "2022-03-25T22:41:35.347429Z",
          "shell.execute_reply": "2022-03-25T22:41:35.870264Z"
        },
        "trusted": true,
        "id": "l0grRqZLOV7K"
      },
      "execution_count": null,
      "outputs": []
    },
    {
      "cell_type": "markdown",
      "source": [
        "## Data Wrangling\n",
        "\n",
        "in this section, we'd load our data from a CSV file to a pandas dataframe, and then take a quick dive into exploring our dataset in details."
      ],
      "metadata": {
        "id": "kXk9b7-gOV7K"
      }
    },
    {
      "cell_type": "code",
      "source": [
        "# loading dataset from csv file and showing its first 5 rows\n",
        "df = pd.read_csv('/kaggle/input/noshowappointments/KaggleV2-May-2016.csv')\n",
        "df.head()"
      ],
      "metadata": {
        "execution": {
          "iopub.status.busy": "2022-03-25T22:41:35.876388Z",
          "iopub.execute_input": "2022-03-25T22:41:35.876633Z",
          "iopub.status.idle": "2022-03-25T22:41:36.146489Z",
          "shell.execute_reply.started": "2022-03-25T22:41:35.876603Z",
          "shell.execute_reply": "2022-03-25T22:41:36.145571Z"
        },
        "trusted": true,
        "id": "etiypDoNOV7L"
      },
      "execution_count": null,
      "outputs": []
    },
    {
      "cell_type": "markdown",
      "source": [
        "We'll move next into exploring our dataset by going through its data types, NaNs or duplicated rows, and any columns that may need to be dropped or parsed."
      ],
      "metadata": {
        "id": "kV87HjOfOV7L"
      }
    },
    {
      "cell_type": "code",
      "source": [
        "# viewing main info about df\n",
        "df.info()"
      ],
      "metadata": {
        "execution": {
          "iopub.status.busy": "2022-03-25T22:41:36.148091Z",
          "iopub.execute_input": "2022-03-25T22:41:36.14832Z",
          "iopub.status.idle": "2022-03-25T22:41:36.226235Z",
          "shell.execute_reply.started": "2022-03-25T22:41:36.148293Z",
          "shell.execute_reply": "2022-03-25T22:41:36.224843Z"
        },
        "trusted": true,
        "id": "lGoNEoH8OV7M"
      },
      "execution_count": null,
      "outputs": []
    },
    {
      "cell_type": "markdown",
      "source": [
        "- we can notice there are no NaNs at all in our data\n",
        "- `PatientId` and `AppointmentId` columns wouldn't be helpful during analysis.\n",
        "- `ScheduledDay` and `AppointmentDay` needs to be casted to date data type.\n",
        "- we may append a new column for days until appointment.\n",
        "- `Gender` needs to be converted into a categoy type\n",
        "- `Scholarship` `Hipertension` `Diabetes` `Alcoholism` `Handcap` better be boolean data type.\n",
        "- `No-show` needs to be parsed and casted to boolean too."
      ],
      "metadata": {
        "id": "zsan_bguOV7M"
      }
    },
    {
      "cell_type": "code",
      "source": [
        "# checking for duplicates\n",
        "df.duplicated().sum()"
      ],
      "metadata": {
        "execution": {
          "iopub.status.busy": "2022-03-25T22:41:36.22908Z",
          "iopub.execute_input": "2022-03-25T22:41:36.229456Z",
          "iopub.status.idle": "2022-03-25T22:41:36.339291Z",
          "shell.execute_reply.started": "2022-03-25T22:41:36.229406Z",
          "shell.execute_reply": "2022-03-25T22:41:36.338132Z"
        },
        "trusted": true,
        "id": "entbMkCsOV7N"
      },
      "execution_count": null,
      "outputs": []
    },
    {
      "cell_type": "markdown",
      "source": [
        "- our dataset has no duplicated rows either."
      ],
      "metadata": {
        "id": "l7UkRKoaOV7N"
      }
    },
    {
      "cell_type": "code",
      "source": [
        "# exploring the unique values of each column\n",
        "df.nunique()"
      ],
      "metadata": {
        "execution": {
          "iopub.status.busy": "2022-03-25T22:41:36.34058Z",
          "iopub.execute_input": "2022-03-25T22:41:36.341253Z",
          "iopub.status.idle": "2022-03-25T22:41:36.430684Z",
          "shell.execute_reply.started": "2022-03-25T22:41:36.341214Z",
          "shell.execute_reply": "2022-03-25T22:41:36.429693Z"
        },
        "trusted": true,
        "id": "mzi_rjnyOV7N"
      },
      "execution_count": null,
      "outputs": []
    },
    {
      "cell_type": "markdown",
      "source": [
        "- `Handcap` and `Age` columns has inconsistant unique values.\n",
        "- `SMS_received` would be casted to boolean data type."
      ],
      "metadata": {
        "id": "pU4mZiYwOV7O"
      }
    },
    {
      "cell_type": "code",
      "source": [
        "# exploring handcap values\n",
        "df['Handcap'].value_counts()"
      ],
      "metadata": {
        "execution": {
          "iopub.status.busy": "2022-03-25T22:41:36.432123Z",
          "iopub.execute_input": "2022-03-25T22:41:36.432418Z",
          "iopub.status.idle": "2022-03-25T22:41:36.443859Z",
          "shell.execute_reply.started": "2022-03-25T22:41:36.432387Z",
          "shell.execute_reply": "2022-03-25T22:41:36.442618Z"
        },
        "trusted": true,
        "id": "hzdJCZ_UOV7O"
      },
      "execution_count": null,
      "outputs": []
    },
    {
      "cell_type": "markdown",
      "source": [
        "- we'd be only intrested in rows with `0` or `1` values."
      ],
      "metadata": {
        "id": "xBjDXH2nOV7O"
      }
    },
    {
      "cell_type": "code",
      "source": [
        "# exploring age column distribution\n",
        "df['Age'].describe()"
      ],
      "metadata": {
        "execution": {
          "iopub.status.busy": "2022-03-25T22:41:36.445146Z",
          "iopub.execute_input": "2022-03-25T22:41:36.445377Z",
          "iopub.status.idle": "2022-03-25T22:41:36.464496Z",
          "shell.execute_reply.started": "2022-03-25T22:41:36.445349Z",
          "shell.execute_reply": "2022-03-25T22:41:36.463857Z"
        },
        "trusted": true,
        "id": "2ojHXKO8OV7O"
      },
      "execution_count": null,
      "outputs": []
    },
    {
      "cell_type": "markdown",
      "source": [
        "- `Age` column would need to be handled."
      ],
      "metadata": {
        "id": "pfq_XlRDOV7P"
      }
    },
    {
      "cell_type": "markdown",
      "source": [
        "## Exploration Summery\n",
        "1. our dataset consists of 110527 rows with 14 columns, and has no NaNs nor duplicated values.\n",
        "2. `PatientId` and `AppointmentId` columns wouldn't be helpful during analysis.\n",
        "3. `ScheduledDay` and `AppointmentDay` needs to be casted to date data type.\n",
        "4. we may append a new column for days until appointment.\n",
        "5. `Gender` needs to be casted into a categoy type\n",
        "6. `Scholarship`, `Hipertension`, `Diabetes`, `Alcoholism` and `SMS_recieved` better be boolean data type.\n",
        "7. `No-show` column needs to be parsed and asted to boolean type.\n",
        "8. `Handcap` colume needs to be cleaned to have only `0` and `1` values.\n",
        "9. `Age` columns has inconsistant unique values that needs to be handled.\n",
        "___"
      ],
      "metadata": {
        "id": "X8-sG_7gOV7P"
      }
    },
    {
      "cell_type": "markdown",
      "source": [
        "## Data Cleaning\n",
        "in this section, we'd perform some operations on our dataset based on the previous findings to make our analysis more accurate and clear."
      ],
      "metadata": {
        "id": "DMjogsDuOV7P"
      }
    },
    {
      "cell_type": "markdown",
      "source": [
        "___\n",
        "**Dropping `PatientId` and `AppointmentId` columns**"
      ],
      "metadata": {
        "id": "6QmjFNKIOV7P"
      }
    },
    {
      "cell_type": "code",
      "source": [
        "# dropping columns and validating changes\n",
        "df.drop(['PatientId', 'AppointmentID'], axis = 1, inplace = True)\n",
        "df.columns"
      ],
      "metadata": {
        "execution": {
          "iopub.status.busy": "2022-03-25T22:41:36.465759Z",
          "iopub.execute_input": "2022-03-25T22:41:36.465963Z",
          "iopub.status.idle": "2022-03-25T22:41:36.480663Z",
          "shell.execute_reply.started": "2022-03-25T22:41:36.465937Z",
          "shell.execute_reply": "2022-03-25T22:41:36.480015Z"
        },
        "trusted": true,
        "id": "dKJBRaLAOV7P"
      },
      "execution_count": null,
      "outputs": []
    },
    {
      "cell_type": "markdown",
      "source": [
        "___\n",
        "**Handling `date` data type**"
      ],
      "metadata": {
        "id": "j5s-YIDHOV7P"
      }
    },
    {
      "cell_type": "code",
      "source": [
        "df.AppointmentDay.unique"
      ],
      "metadata": {
        "execution": {
          "iopub.status.busy": "2022-03-25T22:41:36.482081Z",
          "iopub.execute_input": "2022-03-25T22:41:36.48255Z",
          "iopub.status.idle": "2022-03-25T22:41:36.49003Z",
          "shell.execute_reply.started": "2022-03-25T22:41:36.482519Z",
          "shell.execute_reply": "2022-03-25T22:41:36.489469Z"
        },
        "trusted": true,
        "id": "Le2EV1AbOV7Q"
      },
      "execution_count": null,
      "outputs": []
    },
    {
      "cell_type": "markdown",
      "source": [
        "it looks like all hours are set to 00:00:00, so we would want to extract onl the year, month and day data"
      ],
      "metadata": {
        "id": "r-LMv-XtOV7Q"
      }
    },
    {
      "cell_type": "code",
      "source": [
        "# extracting only day, month and year values\n",
        "df['ScheduledDay'] = df['ScheduledDay'].str[:10]\n",
        "df['AppointmentDay'] = df['AppointmentDay'].str[:10]\n",
        "\n",
        "# changing data type\n",
        "df['ScheduledDay'] = pd.to_datetime(df['ScheduledDay'])\n",
        "df['AppointmentDay'] = pd.to_datetime(df['AppointmentDay'])\n",
        "\n",
        "# confirming changes\n",
        "print(df[['AppointmentDay', 'ScheduledDay']].dtypes)\n",
        "df.head()"
      ],
      "metadata": {
        "execution": {
          "iopub.status.busy": "2022-03-25T22:41:36.491328Z",
          "iopub.execute_input": "2022-03-25T22:41:36.491775Z",
          "iopub.status.idle": "2022-03-25T22:41:36.7032Z",
          "shell.execute_reply.started": "2022-03-25T22:41:36.491743Z",
          "shell.execute_reply": "2022-03-25T22:41:36.702262Z"
        },
        "trusted": true,
        "id": "_nELoH_aOV7Q"
      },
      "execution_count": null,
      "outputs": []
    },
    {
      "cell_type": "markdown",
      "source": [
        "Now, we'd move into appending a new column that holds number of days to the appointment."
      ],
      "metadata": {
        "id": "sxAugQlTOV7R"
      }
    },
    {
      "cell_type": "code",
      "source": [
        "# making new due days column\n",
        "df['due-days'] = df['AppointmentDay'] - df['ScheduledDay']\n",
        "\n",
        "# converting data type\n",
        "df['due-days'] = df['due-days'].dt.days\n",
        "\n",
        "# drop sch and appoint col\n",
        "df.drop(['AppointmentDay', 'ScheduledDay'], axis = 1, inplace = True)"
      ],
      "metadata": {
        "execution": {
          "iopub.status.busy": "2022-03-25T22:41:36.704619Z",
          "iopub.execute_input": "2022-03-25T22:41:36.704951Z",
          "iopub.status.idle": "2022-03-25T22:41:36.7297Z",
          "shell.execute_reply.started": "2022-03-25T22:41:36.704904Z",
          "shell.execute_reply": "2022-03-25T22:41:36.728701Z"
        },
        "trusted": true,
        "id": "URsRcQNvOV7R"
      },
      "execution_count": null,
      "outputs": []
    },
    {
      "cell_type": "markdown",
      "source": [
        "We'll move into exploring this new column."
      ],
      "metadata": {
        "id": "ZkEOYLKFOV7R"
      }
    },
    {
      "cell_type": "code",
      "source": [
        "# viewing summery statistics\n",
        "df['due-days'].describe()"
      ],
      "metadata": {
        "execution": {
          "iopub.status.busy": "2022-03-25T22:41:36.731427Z",
          "iopub.execute_input": "2022-03-25T22:41:36.731887Z",
          "iopub.status.idle": "2022-03-25T22:41:36.746559Z",
          "shell.execute_reply.started": "2022-03-25T22:41:36.73184Z",
          "shell.execute_reply": "2022-03-25T22:41:36.745714Z"
        },
        "trusted": true,
        "id": "2MCpHMcSOV7S"
      },
      "execution_count": null,
      "outputs": []
    },
    {
      "cell_type": "markdown",
      "source": [
        "We seem to have some negative values here, we'll drop them."
      ],
      "metadata": {
        "id": "G7zoxkjhOV7S"
      }
    },
    {
      "cell_type": "code",
      "source": [
        "# viewing negative days values\n",
        "df[df['due-days'] < 0 ]"
      ],
      "metadata": {
        "execution": {
          "iopub.status.busy": "2022-03-25T22:41:36.749413Z",
          "iopub.execute_input": "2022-03-25T22:41:36.74969Z",
          "iopub.status.idle": "2022-03-25T22:41:36.766534Z",
          "shell.execute_reply.started": "2022-03-25T22:41:36.749659Z",
          "shell.execute_reply": "2022-03-25T22:41:36.765781Z"
        },
        "trusted": true,
        "id": "Dp573duNOV7S"
      },
      "execution_count": null,
      "outputs": []
    },
    {
      "cell_type": "code",
      "source": [
        "# dropping these values and confirming changes\n",
        "df.drop(df[df['due-days'] < 0].index, inplace = True)\n",
        "df['due-days'].describe()"
      ],
      "metadata": {
        "execution": {
          "iopub.status.busy": "2022-03-25T22:41:36.767727Z",
          "iopub.execute_input": "2022-03-25T22:41:36.768236Z",
          "iopub.status.idle": "2022-03-25T22:41:36.796204Z",
          "shell.execute_reply.started": "2022-03-25T22:41:36.7682Z",
          "shell.execute_reply": "2022-03-25T22:41:36.795516Z"
        },
        "trusted": true,
        "id": "3npe9HbrOV7S"
      },
      "execution_count": null,
      "outputs": []
    },
    {
      "cell_type": "markdown",
      "source": [
        "___\n",
        "**Converting `Gender` and `No-show` to categorical variables**"
      ],
      "metadata": {
        "id": "Y438H9BLOV7S"
      }
    },
    {
      "cell_type": "code",
      "source": [
        "# converting column and confirming changes\n",
        "df['Gender'] = df['Gender'].astype('category')\n",
        "\n",
        "df['Gender'].dtypes"
      ],
      "metadata": {
        "execution": {
          "iopub.status.busy": "2022-03-25T22:41:36.797356Z",
          "iopub.execute_input": "2022-03-25T22:41:36.798157Z",
          "iopub.status.idle": "2022-03-25T22:41:36.817206Z",
          "shell.execute_reply.started": "2022-03-25T22:41:36.798106Z",
          "shell.execute_reply": "2022-03-25T22:41:36.815588Z"
        },
        "trusted": true,
        "id": "qyG1C3KUOV7T"
      },
      "execution_count": null,
      "outputs": []
    },
    {
      "cell_type": "markdown",
      "source": [
        "___\n",
        "**Converting `Scholarship`, `Hipertension`, `Diabetes`, `Alcoholism`, `Handcap` and `SMS_recieved` to boolean data type**"
      ],
      "metadata": {
        "id": "bCF--SlJOV7T"
      }
    },
    {
      "cell_type": "code",
      "source": [
        "# converting columns to bool and confirming changes\n",
        "cols = ['Scholarship', 'Hipertension', 'Diabetes', 'Alcoholism', 'SMS_received']\n",
        "df[cols] = df[cols].astype('bool')\n",
        "df[cols].dtypes"
      ],
      "metadata": {
        "execution": {
          "iopub.status.busy": "2022-03-25T22:41:36.818473Z",
          "iopub.execute_input": "2022-03-25T22:41:36.819395Z",
          "iopub.status.idle": "2022-03-25T22:41:36.840118Z",
          "shell.execute_reply.started": "2022-03-25T22:41:36.819356Z",
          "shell.execute_reply": "2022-03-25T22:41:36.839237Z"
        },
        "trusted": true,
        "id": "Nr4mDhc3OV7T"
      },
      "execution_count": null,
      "outputs": []
    },
    {
      "cell_type": "markdown",
      "source": [
        "___\n",
        "**Parsing and casting `No-show` column**"
      ],
      "metadata": {
        "id": "fOQR4dFkOV7T"
      }
    },
    {
      "cell_type": "code",
      "source": [
        "# mapping alues to be more familiar\n",
        "df.loc[df['No-show'] == 'Yes', 'No-show'] = 0\n",
        "df.loc[df['No-show'] == 'No', 'No-show'] = 1\n",
        "\n",
        "# casting dt type and confirming changes\n",
        "df['No-show'] = df['No-show'].astype(bool)\n",
        "df['No-show'].dtypes"
      ],
      "metadata": {
        "execution": {
          "iopub.status.busy": "2022-03-25T22:41:36.841202Z",
          "iopub.execute_input": "2022-03-25T22:41:36.841419Z",
          "iopub.status.idle": "2022-03-25T22:41:36.900774Z",
          "shell.execute_reply.started": "2022-03-25T22:41:36.841392Z",
          "shell.execute_reply": "2022-03-25T22:41:36.899911Z"
        },
        "trusted": true,
        "id": "1OQaVA6iOV7T"
      },
      "execution_count": null,
      "outputs": []
    },
    {
      "cell_type": "markdown",
      "source": [
        "___\n",
        "**Cleaning `Handcap` column**"
      ],
      "metadata": {
        "id": "wn8FS3nOOV7T"
      }
    },
    {
      "cell_type": "code",
      "source": [
        "# viewing rows with values of handcap > 1\n",
        "df[df['Handcap'] > 1]"
      ],
      "metadata": {
        "execution": {
          "iopub.status.busy": "2022-03-25T22:41:36.901961Z",
          "iopub.execute_input": "2022-03-25T22:41:36.902209Z",
          "iopub.status.idle": "2022-03-25T22:41:36.928787Z",
          "shell.execute_reply.started": "2022-03-25T22:41:36.902179Z",
          "shell.execute_reply": "2022-03-25T22:41:36.927916Z"
        },
        "trusted": true,
        "id": "JvdvZ7FdOV7Z"
      },
      "execution_count": null,
      "outputs": []
    },
    {
      "cell_type": "markdown",
      "source": [
        "We have 199 rows with inconsistant values, we'd replace them with 1 to treat them as beeing handcaped"
      ],
      "metadata": {
        "id": "21Y9SdDlOV7Z"
      }
    },
    {
      "cell_type": "code",
      "source": [
        "# filling the bigger values with 1\n",
        "df.loc[df['Handcap'].isin([2, 3, 4]), 'Handcap'] = 1\n",
        "\n",
        "# casting type and confirming changes\n",
        "df['Handcap'] = df['Handcap'].astype('bool')\n",
        "df['Handcap'].unique()"
      ],
      "metadata": {
        "execution": {
          "iopub.status.busy": "2022-03-25T22:41:36.929932Z",
          "iopub.execute_input": "2022-03-25T22:41:36.930148Z",
          "iopub.status.idle": "2022-03-25T22:41:36.942372Z",
          "shell.execute_reply.started": "2022-03-25T22:41:36.93012Z",
          "shell.execute_reply": "2022-03-25T22:41:36.941379Z"
        },
        "trusted": true,
        "id": "GZsVqz7DOV7Z"
      },
      "execution_count": null,
      "outputs": []
    },
    {
      "cell_type": "markdown",
      "source": [
        "___\n",
        "**Cleaning `Age` column**"
      ],
      "metadata": {
        "id": "DE0a-0CNOV7Z"
      }
    },
    {
      "cell_type": "code",
      "source": [
        "#exploring values below 0\n",
        "df[df['Age'] < 0]"
      ],
      "metadata": {
        "execution": {
          "iopub.status.busy": "2022-03-25T22:41:36.943636Z",
          "iopub.execute_input": "2022-03-25T22:41:36.944886Z",
          "iopub.status.idle": "2022-03-25T22:41:36.963548Z",
          "shell.execute_reply.started": "2022-03-25T22:41:36.944845Z",
          "shell.execute_reply": "2022-03-25T22:41:36.962625Z"
        },
        "trusted": true,
        "id": "ghFTIcU8OV7a"
      },
      "execution_count": null,
      "outputs": []
    },
    {
      "cell_type": "markdown",
      "source": [
        "- we have one value with negative age, so we will drop it"
      ],
      "metadata": {
        "id": "rKVtU4iiOV7a"
      }
    },
    {
      "cell_type": "code",
      "source": [
        "# dropping row with negative age and confirming changes\n",
        "df.drop(df[df['Age'] < 0].index, inplace = True)\n",
        "df[df['Age'] < 0]"
      ],
      "metadata": {
        "execution": {
          "iopub.status.busy": "2022-03-25T22:41:36.965081Z",
          "iopub.execute_input": "2022-03-25T22:41:36.965357Z",
          "iopub.status.idle": "2022-03-25T22:41:36.990092Z",
          "shell.execute_reply.started": "2022-03-25T22:41:36.965324Z",
          "shell.execute_reply": "2022-03-25T22:41:36.988871Z"
        },
        "trusted": true,
        "id": "Am0cG1H8OV7a"
      },
      "execution_count": null,
      "outputs": []
    },
    {
      "cell_type": "markdown",
      "source": [
        "___"
      ],
      "metadata": {
        "id": "eKRYQTZhOV7a"
      }
    },
    {
      "cell_type": "code",
      "source": [
        "df.head()"
      ],
      "metadata": {
        "execution": {
          "iopub.status.busy": "2022-03-25T22:41:36.991429Z",
          "iopub.execute_input": "2022-03-25T22:41:36.991718Z",
          "iopub.status.idle": "2022-03-25T22:41:37.009729Z",
          "shell.execute_reply.started": "2022-03-25T22:41:36.991677Z",
          "shell.execute_reply": "2022-03-25T22:41:37.008841Z"
        },
        "trusted": true,
        "id": "c6YvwzCuOV7a"
      },
      "execution_count": null,
      "outputs": []
    },
    {
      "cell_type": "code",
      "source": [
        "df.info()"
      ],
      "metadata": {
        "execution": {
          "iopub.status.busy": "2022-03-25T22:41:37.01209Z",
          "iopub.execute_input": "2022-03-25T22:41:37.013161Z",
          "iopub.status.idle": "2022-03-25T22:41:37.047266Z",
          "shell.execute_reply.started": "2022-03-25T22:41:37.013117Z",
          "shell.execute_reply": "2022-03-25T22:41:37.046118Z"
        },
        "trusted": true,
        "id": "gSGeX9u9OV7a"
      },
      "execution_count": null,
      "outputs": []
    },
    {
      "cell_type": "markdown",
      "source": [
        "We endded up with a datafram of 110521 rows and 11 columns, and everything looks tidy and clean. We'd proceed in visualizing it to extract meaningful insights from it.\n",
        "___"
      ],
      "metadata": {
        "id": "cAa_WyVTOV7b"
      }
    },
    {
      "cell_type": "markdown",
      "source": [
        "## Data Visualization and EDA\n",
        "Now that our data is clean, we'd perform some EDA on it in order to extract useful insights from it."
      ],
      "metadata": {
        "id": "NRZcbBU2OV7b"
      }
    },
    {
      "cell_type": "code",
      "source": [
        "# setting seaborn configurations\n",
        "sns.set_style(\"whitegrid\")"
      ],
      "metadata": {
        "execution": {
          "iopub.status.busy": "2022-03-25T22:41:37.048633Z",
          "iopub.execute_input": "2022-03-25T22:41:37.048868Z",
          "iopub.status.idle": "2022-03-25T22:41:37.053949Z",
          "shell.execute_reply.started": "2022-03-25T22:41:37.04884Z",
          "shell.execute_reply": "2022-03-25T22:41:37.052995Z"
        },
        "trusted": true,
        "id": "8D1yl9KhOV7b"
      },
      "execution_count": null,
      "outputs": []
    },
    {
      "cell_type": "markdown",
      "source": [
        "### **How often do men go to hospitals compared to women? Which of them is more likely to show up?**"
      ],
      "metadata": {
        "id": "_WkezAaGOV7b"
      }
    },
    {
      "cell_type": "code",
      "source": [
        "# viewing count plot of gender distribution in our dataset\n",
        "sns.countplot(x = 'Gender', data = df)\n",
        "plt.title(\"Gender Distribution\")\n",
        "plt.show()"
      ],
      "metadata": {
        "execution": {
          "iopub.status.busy": "2022-03-25T22:41:37.055148Z",
          "iopub.execute_input": "2022-03-25T22:41:37.055953Z",
          "iopub.status.idle": "2022-03-25T22:41:37.272378Z",
          "shell.execute_reply.started": "2022-03-25T22:41:37.055798Z",
          "shell.execute_reply": "2022-03-25T22:41:37.271627Z"
        },
        "trusted": true,
        "id": "twYofQf9OV7b"
      },
      "execution_count": null,
      "outputs": []
    },
    {
      "cell_type": "code",
      "source": [
        "# viewing count plot of gender distribution against age in our dataset\n",
        "sns.boxplot(x = 'Gender', y = 'Age', data = df)\n",
        "plt.title(\"Gender Distribution against Age\")\n",
        "plt.show()"
      ],
      "metadata": {
        "execution": {
          "iopub.status.busy": "2022-03-25T23:18:19.63333Z",
          "iopub.execute_input": "2022-03-25T23:18:19.634085Z",
          "iopub.status.idle": "2022-03-25T23:18:19.844547Z",
          "shell.execute_reply.started": "2022-03-25T23:18:19.634032Z",
          "shell.execute_reply": "2022-03-25T23:18:19.843522Z"
        },
        "trusted": true,
        "id": "m8DG2AzCOV7b"
      },
      "execution_count": null,
      "outputs": []
    },
    {
      "cell_type": "markdown",
      "source": [
        "- we can notice that nearly half of our dataset conists of women with wider age destribution and some outliers, all of which achiees a rate higher than men."
      ],
      "metadata": {
        "id": "-OEXxeqdOV7b"
      }
    },
    {
      "cell_type": "code",
      "source": [
        "df['No-show'].value_counts()"
      ],
      "metadata": {
        "execution": {
          "iopub.status.busy": "2022-03-25T23:05:33.997416Z",
          "iopub.execute_input": "2022-03-25T23:05:33.99794Z",
          "iopub.status.idle": "2022-03-25T23:05:34.005396Z",
          "shell.execute_reply.started": "2022-03-25T23:05:33.997889Z",
          "shell.execute_reply": "2022-03-25T23:05:34.004745Z"
        },
        "trusted": true,
        "id": "vBagaV0gOV7c"
      },
      "execution_count": null,
      "outputs": []
    },
    {
      "cell_type": "markdown",
      "source": [
        "- it is obvious that 79.8% of our patients did show up on their appointments and only 20.1% of them did not.\n",
        "\n",
        "lets dive deeper to see if this is related to gender."
      ],
      "metadata": {
        "id": "J8CmXg5hOV7c"
      }
    },
    {
      "cell_type": "code",
      "source": [
        "# showing the gender destribution with respect to the no-show colunmn\n",
        "sns.countplot(x = 'Gender', data = df, hue = 'No-show')\n",
        "plt.title('gender destribution with respect to no-show colunmn')\n",
        "plt.show()"
      ],
      "metadata": {
        "execution": {
          "iopub.status.busy": "2022-03-25T22:51:29.906045Z",
          "iopub.execute_input": "2022-03-25T22:51:29.906338Z",
          "iopub.status.idle": "2022-03-25T22:51:30.124759Z",
          "shell.execute_reply.started": "2022-03-25T22:51:29.906307Z",
          "shell.execute_reply": "2022-03-25T22:51:30.123739Z"
        },
        "trusted": true,
        "id": "6REiWQZXOV7c"
      },
      "execution_count": null,
      "outputs": []
    },
    {
      "cell_type": "markdown",
      "source": [
        "- from the above chart, we can come up with a conclusion that women do show up on their appointments more often than men do, but this may b affected by the percentage of women on this dataset."
      ],
      "metadata": {
        "id": "UxgYPHn6OV7c"
      }
    },
    {
      "cell_type": "markdown",
      "source": [
        "___\n",
        "### **Does recieving an SMS as a reminder affect whether or not a patient may show up? is it correlated with number of days before the appointment?**"
      ],
      "metadata": {
        "id": "6YqdE048OV7c"
      }
    },
    {
      "cell_type": "code",
      "source": [
        "# viewing count plot of recieving SMS distribution in our dataset\n",
        "sns.countplot(x = 'SMS_received', data = df)\n",
        "plt.title(\"SMS received destribution\")\n",
        "plt.show()"
      ],
      "metadata": {
        "execution": {
          "iopub.status.busy": "2022-03-25T23:07:55.19378Z",
          "iopub.execute_input": "2022-03-25T23:07:55.194334Z",
          "iopub.status.idle": "2022-03-25T23:07:55.390458Z",
          "shell.execute_reply.started": "2022-03-25T23:07:55.194303Z",
          "shell.execute_reply": "2022-03-25T23:07:55.389579Z"
        },
        "trusted": true,
        "id": "4iLHjMngOV7c"
      },
      "execution_count": null,
      "outputs": []
    },
    {
      "cell_type": "code",
      "source": [
        "df['SMS_received'].value_counts()"
      ],
      "metadata": {
        "execution": {
          "iopub.status.busy": "2022-03-25T23:08:52.961662Z",
          "iopub.execute_input": "2022-03-25T23:08:52.962417Z",
          "iopub.status.idle": "2022-03-25T23:08:52.972949Z",
          "shell.execute_reply.started": "2022-03-25T23:08:52.96238Z",
          "shell.execute_reply": "2022-03-25T23:08:52.972219Z"
        },
        "trusted": true,
        "id": "2IFI9Lo6OV7d"
      },
      "execution_count": null,
      "outputs": []
    },
    {
      "cell_type": "markdown",
      "source": [
        "- we can see that 67.8% of our patients did not reciee any SMS reminder of their appointments, cound this be affecting their showin up?"
      ],
      "metadata": {
        "id": "5mshjECjOV7d"
      }
    },
    {
      "cell_type": "code",
      "source": [
        "# showing the sms destribution with respect to the no-show colunmn\n",
        "sns.countplot(x = 'SMS_received', data = df, hue = 'No-show')\n",
        "plt.title('SMS destribution with respect to no-show colunmn')\n",
        "plt.show()"
      ],
      "metadata": {
        "execution": {
          "iopub.status.busy": "2022-03-25T23:11:30.643936Z",
          "iopub.execute_input": "2022-03-25T23:11:30.644257Z",
          "iopub.status.idle": "2022-03-25T23:11:30.87908Z",
          "shell.execute_reply.started": "2022-03-25T23:11:30.644227Z",
          "shell.execute_reply": "2022-03-25T23:11:30.878087Z"
        },
        "trusted": true,
        "id": "YXNJYqKjOV7d"
      },
      "execution_count": null,
      "outputs": []
    },
    {
      "cell_type": "markdown",
      "source": [
        "- we can see that our previous deduction was not quiet correct, as the vast majority of our patients did not recieve any SMS reminder and yet they showed up on their appointments."
      ],
      "metadata": {
        "id": "368JZlxmOV7d"
      }
    },
    {
      "cell_type": "code",
      "source": [
        "# viewing the correlation between no-show and due-days without outliers\n",
        "sns.boxplot(x = 'No-show', y = 'due-days', data = df, showfliers = False)\n",
        "plt.title('no-show against due-days')\n",
        "plt.show()"
      ],
      "metadata": {
        "execution": {
          "iopub.status.busy": "2022-03-25T23:24:43.150791Z",
          "iopub.execute_input": "2022-03-25T23:24:43.151571Z",
          "iopub.status.idle": "2022-03-25T23:24:43.592308Z",
          "shell.execute_reply.started": "2022-03-25T23:24:43.15153Z",
          "shell.execute_reply": "2022-03-25T23:24:43.591445Z"
        },
        "trusted": true,
        "id": "-7U1BYWpOV7d"
      },
      "execution_count": null,
      "outputs": []
    },
    {
      "cell_type": "markdown",
      "source": [
        "- it is clear that there is a correlation between number od due days and whether a patient shows up or not.\n",
        "- patient with appointments from 0 to 30 days tend to show up more regularly, while patients with higher number of days tend to not show up."
      ],
      "metadata": {
        "id": "MxFmyEHcOV7d"
      }
    },
    {
      "cell_type": "code",
      "source": [
        "# viewing the correlation between no-show and due-days without outliers with respect to gender\n",
        "sns.boxplot(x = 'No-show', y = 'due-days', data = df, hue = 'Gender', showfliers = False)\n",
        "plt.title('no-show against due-days')\n",
        "plt.show()"
      ],
      "metadata": {
        "execution": {
          "iopub.status.busy": "2022-03-25T23:28:45.464199Z",
          "iopub.execute_input": "2022-03-25T23:28:45.464533Z",
          "iopub.status.idle": "2022-03-25T23:28:45.750685Z",
          "shell.execute_reply.started": "2022-03-25T23:28:45.464484Z",
          "shell.execute_reply": "2022-03-25T23:28:45.749604Z"
        },
        "trusted": true,
        "id": "L92lQhOXOV7d"
      },
      "execution_count": null,
      "outputs": []
    },
    {
      "cell_type": "markdown",
      "source": [
        "- gender does not affect number of due days and showing up at an appointment that much."
      ],
      "metadata": {
        "id": "u6uCxykROV7e"
      }
    },
    {
      "cell_type": "markdown",
      "source": [
        "___\n",
        "### **Does having a scholarship affects showing up on a hospital appointment? What are the age groups affected by this?**"
      ],
      "metadata": {
        "id": "m3GlMLSQOV7e"
      }
    },
    {
      "cell_type": "code",
      "source": [
        "# plotting having a scholarship against age\n",
        "sns.boxplot(x = 'Scholarship', y = 'Age', data = df)\n",
        "plt.title('shcolarship V.S. age')\n",
        "plt.show()"
      ],
      "metadata": {
        "execution": {
          "iopub.status.busy": "2022-03-25T23:45:49.118354Z",
          "iopub.execute_input": "2022-03-25T23:45:49.119407Z",
          "iopub.status.idle": "2022-03-25T23:45:49.331441Z",
          "shell.execute_reply.started": "2022-03-25T23:45:49.119352Z",
          "shell.execute_reply": "2022-03-25T23:45:49.330786Z"
        },
        "trusted": true,
        "id": "Up65UjIvOV7e"
      },
      "execution_count": null,
      "outputs": []
    },
    {
      "cell_type": "code",
      "source": [
        "# plotting having a scholarship against no show with respect to gender\n",
        "sns.barplot(x = 'Scholarship', y = 'No-show', hue = 'Gender', data = df)\n",
        "plt.title('shcolarship V.S. no show with respect to gender')\n",
        "plt.show()"
      ],
      "metadata": {
        "execution": {
          "iopub.status.busy": "2022-03-25T23:46:10.615569Z",
          "iopub.execute_input": "2022-03-25T23:46:10.615852Z",
          "iopub.status.idle": "2022-03-25T23:46:12.151246Z",
          "shell.execute_reply.started": "2022-03-25T23:46:10.615822Z",
          "shell.execute_reply": "2022-03-25T23:46:12.150409Z"
        },
        "trusted": true,
        "id": "r4HdlkeHOV7e"
      },
      "execution_count": null,
      "outputs": []
    },
    {
      "cell_type": "code",
      "source": [
        "# ploting age destribution\n",
        "df['Age'].hist()"
      ],
      "metadata": {
        "execution": {
          "iopub.status.busy": "2022-03-25T23:52:28.58757Z",
          "iopub.execute_input": "2022-03-25T23:52:28.587863Z",
          "iopub.status.idle": "2022-03-25T23:52:28.84325Z",
          "shell.execute_reply.started": "2022-03-25T23:52:28.587834Z",
          "shell.execute_reply": "2022-03-25T23:52:28.842343Z"
        },
        "trusted": true,
        "id": "JQEf_1cJOV7e"
      },
      "execution_count": null,
      "outputs": []
    },
    {
      "cell_type": "markdown",
      "source": [
        "- we can see that having a scolarship does not affect showing up to a doctor appointment that much and that huge age group is enrolled to that scholarship and also enrol their babies on."
      ],
      "metadata": {
        "id": "HnzWP9u4OV7e"
      }
    },
    {
      "cell_type": "markdown",
      "source": [
        "___\n",
        "### **Does having certain deseas affects whather or not a patient may show up to their appointment? is it affected by gender?**"
      ],
      "metadata": {
        "id": "fo04woDROV7e"
      }
    },
    {
      "cell_type": "code",
      "source": [
        "# plotting deseases against no show\n",
        "plt.figure(figsize=(15,10))\n",
        "plt.subplot(2,2,1)\n",
        "sns.countplot(x = 'Hipertension', data = df, hue= 'No-show')\n",
        "plt.subplot(2,2,2)\n",
        "sns.countplot(x = 'Diabetes', data = df, hue= 'No-show')\n",
        "plt.subplot(2,2,3)\n",
        "sns.countplot(x = 'Alcoholism', data = df, hue= 'No-show')\n",
        "plt.subplot(2,2,4)\n",
        "sns.countplot(x = 'Handcap', data = df, hue= 'No-show')\n",
        "plt.show()"
      ],
      "metadata": {
        "execution": {
          "iopub.status.busy": "2022-03-25T23:49:28.409208Z",
          "iopub.execute_input": "2022-03-25T23:49:28.410192Z",
          "iopub.status.idle": "2022-03-25T23:49:29.09786Z",
          "shell.execute_reply.started": "2022-03-25T23:49:28.410135Z",
          "shell.execute_reply": "2022-03-25T23:49:29.097045Z"
        },
        "trusted": true,
        "id": "MC171nv5OV7f"
      },
      "execution_count": null,
      "outputs": []
    },
    {
      "cell_type": "code",
      "source": [
        "# plotting deseases against no show with respect to age\n",
        "plt.figure(figsize=(15,10))\n",
        "plt.subplot(2,2,1)\n",
        "sns.barplot(x = 'Hipertension', y = 'Age', data = df, hue= 'No-show')\n",
        "plt.subplot(2,2,2)\n",
        "sns.barplot(x = 'Diabetes', y = 'Age', data = df, hue= 'No-show')\n",
        "plt.subplot(2,2,3)\n",
        "sns.barplot(x = 'Alcoholism', y = 'Age', data = df, hue= 'No-show')\n",
        "plt.subplot(2,2,4)\n",
        "sns.barplot(x = 'Handcap', y = 'Age', data = df, hue= 'No-show')\n",
        "plt.show()"
      ],
      "metadata": {
        "execution": {
          "iopub.status.busy": "2022-03-25T23:39:24.183076Z",
          "iopub.execute_input": "2022-03-25T23:39:24.183357Z",
          "iopub.status.idle": "2022-03-25T23:39:30.259322Z",
          "shell.execute_reply.started": "2022-03-25T23:39:24.183329Z",
          "shell.execute_reply": "2022-03-25T23:39:30.258329Z"
        },
        "trusted": true,
        "id": "7zGqmMQwOV7f"
      },
      "execution_count": null,
      "outputs": []
    },
    {
      "cell_type": "markdown",
      "source": [
        "- from the previous set of plots, we can conclude that the vast majority of our dataset does not have chronic deseases, yet, they are existed in so many young people.  \n",
        "- having a chronic deseas may affect your showing up at a hospital's appointment."
      ],
      "metadata": {
        "id": "2Nf6q7_cOV7f"
      }
    },
    {
      "cell_type": "markdown",
      "source": [
        "___\n",
        "## Conclusion\n",
        "\n",
        "### Q1: How often do men go to hospitals compared to women? Which of them is more likely to show up?\n",
        "- Nearly half of our dataset conists of women with wider age destribution and some outliers, all of which achiees a rate higher than men.\n",
        "\n",
        "- It is obvious that 79.8% of our patients did show up on their appointments and only 20.1% of them did not.\n",
        "\n",
        "- Women do show up on their appointments more often than men do, but this may b affected by the percentage of women on this dataset.\n",
        "___\n",
        "### Q2: Does recieving an SMS as a reminder affect whether or not a patient may show up? is it correlated with number of days before the appointment?\n",
        "- 67.8% of our patients did not reciee any SMS reminder of their appointments, yet they showed up on their appointments.\n",
        "- It is clear that there is a positive correlation between number of due days and whether a patient shows up or not.\n",
        "- Patient with appointments from 0 to 30 days tend to show up more regularly, while patients with higher number of days tend to not show up.\n",
        "- gender does not affect number of due days and showing up at an appointment that much.\n",
        "___\n",
        "### Q3: Does having a scholarship affects showing up on a hospital appointment? What are the age groups affected by this?\n",
        "- Having a scholarship does not affect showing up to a doctor appointment that much.\n",
        "- Huge age group is enrolled to that scholarship and also enrol their babies on.\n",
        "___\n",
        "### Q4: Does having certain deseases affect whather or not a patient may show up to their appointment? is it affected by gender?\n",
        "- We can conclude that the vast majority of our dataset does not have chronic deseases, yet, they are existed in so many young people.\n",
        "- Having a chronic deseas may affect your showing up at a hospital's appointment.\n"
      ],
      "metadata": {
        "id": "HzrF3J3jOV7f"
      }
    }
  ]
}